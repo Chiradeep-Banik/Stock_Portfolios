{
  "nbformat": 4,
  "nbformat_minor": 0,
  "metadata": {
    "colab": {
      "name": "Web_Scraping_Teesting.ipynb",
      "provenance": [],
      "collapsed_sections": [],
      "mount_file_id": "1aDW_oBvCiNrbNq-1dUPH0O-aV9vY2lh3",
      "authorship_tag": "ABX9TyOfUiPZjigWRFMi1c3LxukV",
      "include_colab_link": true
    },
    "kernelspec": {
      "name": "python3",
      "display_name": "Python 3"
    }
  },
  "cells": [
    {
      "cell_type": "markdown",
      "metadata": {
        "id": "view-in-github",
        "colab_type": "text"
      },
      "source": [
        "<a href=\"https://colab.research.google.com/github/Vikram-Ahuja/Stock_Portfolios/blob/main/Web_Scraping_Teesting.ipynb\" target=\"_parent\"><img src=\"https://colab.research.google.com/assets/colab-badge.svg\" alt=\"Open In Colab\"/></a>"
      ]
    },
    {
      "cell_type": "code",
      "metadata": {
        "id": "sfj4ES3QtpXW"
      },
      "source": [
        "from bs4 import BeautifulSoup\n",
        "import pandas as pd\n",
        "import requests as rq\n",
        "import numpy as np\n",
        "import datetime as dt"
      ],
      "execution_count": null,
      "outputs": []
    },
    {
      "cell_type": "code",
      "metadata": {
        "id": "8GqFr3gL6yMB"
      },
      "source": [
        "stocks = pd.read_excel(\"/content/drive/MyDrive/NIfty_stocks.xlsx\")\n",
        "\n",
        "one_year_return = pd.DataFrame(columns=[\"One_Year_Return\"])\n",
        "\n",
        "for stock in stocks.Symbols:\n",
        "    url = f\"https://markets.ft.com/data/equities/tearsheet/summary?s={stock}:NSI\"\n",
        "\n",
        "    html = rq.get(url).text\n",
        "\n",
        "    soup = BeautifulSoup(html , \"lxml\")\n",
        "\n",
        "    price = soup.find_all(\"span\",class_=\"mod-format--pos\")\n",
        "    if len(price) == 1:\n",
        "        Return = price[0].text.replace(\"%\",\"\")\n",
        "    else :\n",
        "        Return = price[1].text.replace(\"%\",\"\")\n",
        "    one_year_return = one_year_return.append(\n",
        "        pd.Series(\n",
        "            [Return],\n",
        "            index= [\"One_Year_Return\"]\n",
        "        ),\n",
        "        ignore_index= True\n",
        "    )"
      ],
      "execution_count": null,
      "outputs": []
    },
    {
      "cell_type": "code",
      "metadata": {
        "id": "2P6ZLucvoQaT"
      },
      "source": [
        "data = stocks\n",
        "\n",
        "data.insert(1,\"One_Year_Return\" , one_year_return,True)\n",
        "\n",
        "data\n"
      ],
      "execution_count": null,
      "outputs": []
    },
    {
      "cell_type": "code",
      "metadata": {
        "id": "MMp_HK0lJzWl"
      },
      "source": [
        "for stock in stocks.Symbols:\n",
        "    print(stock)"
      ],
      "execution_count": null,
      "outputs": []
    },
    {
      "cell_type": "code",
      "metadata": {
        "id": "ZQc2UdJ6Tjwj"
      },
      "source": [
        "url = f\"https://in.finance.yahoo.com/quote/SBIN.NS/history?period1=1514764800&period2=1615334400&interval=1mo&filter=history&frequency=1mo&includeAdjustedClose=true\"\n",
        "html = rq.get(url).text\n",
        "soup3= BeautifulSoup(html , \"lxml\")\n",
        "\n",
        "d = soup3.find_all(\"tr\",class_=\"BdT Bdc($seperatorColor) Ta(end) Fz(s) Whs(nw)\")\n",
        "\n",
        "d2 = pd.read_html(\"https://in.finance.yahoo.com/quote/SBIN.NS/history?period1=1514764800&period2=1615334400&interval=1mo&filter=history&frequency=1mo&includeAdjustedClose=true\")\n",
        "\n",
        "d2[0][:24]    "
      ],
      "execution_count": null,
      "outputs": []
    },
    {
      "cell_type": "code",
      "metadata": {
        "id": "_5IsQrIrUvbn"
      },
      "source": [
        "stocks = pd.read_excel(\"/content/drive/MyDrive/NIfty_stocks.xlsx\")\n",
        "stocks_month_price ={}\n",
        "for stock in stocks.Symbols: \n",
        "    d = pd.read_html(f\"https://in.finance.yahoo.com/quote/{stock}.NS/history?period1=1514764800&period2=1615334400&interval=1mo&filter=history&frequency=1mo&includeAdjustedClose=true\")\n",
        "    d = d[0][:30]\n",
        "    \n",
        "    del d['Volume']\n",
        "    del d['Close*']\n",
        "    d = d.rename(columns={\"Adj. close**\": \"Close\"})\n",
        "    stocks_month_price[stock]  = d \n",
        "\n",
        "    for i in range(len(stocks_month_price[stock])):\n",
        "        x = stocks_month_price[stock].Date[i]\n",
        "        if \"01-\" not in x:\n",
        "            stocks_month_price[stock].drop([i], inplace = True) \n",
        "     \n"
      ],
      "execution_count": null,
      "outputs": []
    },
    {
      "cell_type": "code",
      "metadata": {
        "id": "N4lD7w1PFeTi"
      },
      "source": [
        "print(stocks_month_price['SBIN'])\n",
        "print(stocks_month_price['SBIN'].Date[11][3:6])"
      ],
      "execution_count": null,
      "outputs": []
    }
  ]
}