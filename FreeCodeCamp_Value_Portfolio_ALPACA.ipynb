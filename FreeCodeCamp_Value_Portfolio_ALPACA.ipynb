{
  "nbformat": 4,
  "nbformat_minor": 0,
  "metadata": {
    "colab": {
      "name": "FreeCodeCamp_Value_Portfolio_ALPACA.ipynb",
      "provenance": [],
      "collapsed_sections": [],
      "mount_file_id": "1bzMH2tpMq8CH3Ga8H_APDUDaYgjCIl6e",
      "authorship_tag": "ABX9TyN0dOefkyYHIncWexcEV1ua",
      "include_colab_link": true
    },
    "kernelspec": {
      "name": "python3",
      "display_name": "Python 3"
    }
  },
  "cells": [
    {
      "cell_type": "markdown",
      "metadata": {
        "id": "view-in-github",
        "colab_type": "text"
      },
      "source": [
        "<a href=\"https://colab.research.google.com/github/Vikram-Ahuja/Stock_Portfolios/blob/main/FreeCodeCamp_Value_Portfolio_ALPACA.ipynb\" target=\"_parent\"><img src=\"https://colab.research.google.com/assets/colab-badge.svg\" alt=\"Open In Colab\"/></a>"
      ]
    },
    {
      "cell_type": "code",
      "metadata": {
        "id": "t801qPBcVkLE"
      },
      "source": [
        "import alpaca_trade_api as trade_api\n",
        "import pandas as pd\n",
        "from bs4 import BeautifulSoup\n",
        "import requests as rq \n",
        "from scipy.stats import percentileofscore as percentile \n",
        "from statistics import mean\n",
        "from math import floor"
      ],
      "execution_count": null,
      "outputs": []
    },
    {
      "cell_type": "code",
      "metadata": {
        "id": "iCLSVVUsXHGC"
      },
      "source": [
        "def price_scrape(stock):\n",
        "    url = f\"https://in.finance.yahoo.com/quote/{stock}\"\n",
        "\n",
        "    data = rq.get(url).text\n",
        "    soup = BeautifulSoup(data,\"lxml\")\n",
        "    price2 = soup.find_all(\"span\")\n",
        "    price = price2[19].text\n",
        "    price = price.replace(\",\",\"\")\n",
        "    price = price.replace(\"$\" ,\"\")\n",
        "    return float (price)\n",
        "\n",
        "def stat_scrape(stock):\n",
        "    url = f\"https://in.finance.yahoo.com/quote/{stock}/key-statistics\"\n",
        "    data = pd.read_html(url)\n",
        "\n",
        "    PE = data[0].iloc[2,1]\n",
        "    PE = PE.replace(\",\",\"\")\n",
        "    PS = data[0].iloc[5,1]\n",
        "    PS = PS.replace(\",\",\"\")\n",
        "    PB = data[0].iloc[6,1]\n",
        "    PB = PB.replace(\",\",\"\")\n",
        "    EV_GP = data[0].iloc[7,1]\n",
        "    EV_GP= EV_GP.replace(\",\",\"\")\n",
        "    EV_EBITDA = data[0].iloc[8,1]\n",
        "    EV_EBITDA = EV_EBITDA.replace(\",\",\"\")\n",
        "\n",
        "    return float (PE),float (PS),float (PB),float (EV_GP),float (EV_EBITDA)"
      ],
      "execution_count": null,
      "outputs": []
    },
    {
      "cell_type": "code",
      "metadata": {
        "id": "3BorFlSZd6Lk"
      },
      "source": [
        "stocks = pd.read_csv(\"/content/drive/MyDrive/S&P_500.csv\")\n",
        "\n",
        "my_column = [\"Symbol\",\"Price\",\"PE\",\"PE_Percentile\",\"PB\",\"PB_Percentile\",\"PS\",\"PS_Percentile\",\"EV_EBITDA\",\"EV_EBITDA_Percentile\",\"EV_GP\",\"EV_GP_Percentile\",\"RV_Score\",\"Shares_to_Buy\"]\n",
        "\n",
        "Value_Portfolio = pd.DataFrame(columns=my_column)\n",
        "\n",
        "rejected_stocks = []\n",
        "\n",
        "for stock in stocks.Symbol:\n",
        "    stock= stock.replace(\".\",\"-\")\n",
        "    try:\n",
        "        PE,PS,PB,EV_GP,EV_EBITDA = stat_scrape(stock)\n",
        "        Value_Portfolio = Value_Portfolio.append(\n",
        "            pd.Series(\n",
        "                [\n",
        "                stock ,\n",
        "                price_scrape(stock) ,\n",
        "                PE,\n",
        "                \"N/A\",\n",
        "                PB,\n",
        "                \"N/A\",\n",
        "                PS,\n",
        "                \"N/A\",\n",
        "                EV_EBITDA,\n",
        "                \"N/A\",\n",
        "                EV_GP,\n",
        "                \"N/A\",\n",
        "                \"N/A\",\n",
        "                \"N/A\"\n",
        "                ],\n",
        "                index =my_column\n",
        "            ),\n",
        "            ignore_index= True\n",
        "        )\n",
        "    except:\n",
        "            print(stock)\n",
        "            rejected_stocks.append(stock)"
      ],
      "execution_count": null,
      "outputs": []
    },
    {
      "cell_type": "code",
      "metadata": {
        "id": "c2XXu7O-rLZJ"
      },
      "source": [
        "rejected_stocks3 = []\n",
        "for stock in rejected_stocks2:\n",
        "    try:\n",
        "        PE,PS,PB,EV_GP,EV_EBITDA = stat_scrape(stock)\n",
        "        Value_Portfolio = Value_Portfolio.append(\n",
        "            pd.Series(\n",
        "                [\n",
        "                stock ,\n",
        "                price_scrape(stock) ,\n",
        "                PE,\n",
        "                \"N/A\",\n",
        "                PB,\n",
        "                \"N/A\",\n",
        "                PS,\n",
        "                \"N/A\",\n",
        "                EV_EBITDA,\n",
        "                \"N/A\",\n",
        "                EV_GP,\n",
        "                \"N/A\",\n",
        "                \"N/A\",\n",
        "                \"N/A\"\n",
        "                ],\n",
        "                index =my_column\n",
        "            ),\n",
        "            ignore_index= True\n",
        "        )\n",
        "    except:\n",
        "            print(stock)\n",
        "            rejected_stocks3.append(stock)\n",
        "\n",
        "Value_Portfolio = Value_Portfolio.dropna()\n",
        "Value_Portfolio=Value_Portfolio.reset_index(drop=True)"
      ],
      "execution_count": null,
      "outputs": []
    },
    {
      "cell_type": "code",
      "metadata": {
        "id": "HzelFfhlgubg"
      },
      "source": [
        "values = [\"PE\",\"PB\",\"PS\",\"EV_EBITDA\",\"EV_GP\"]\n",
        "\n",
        "for i in range(len(Value_Portfolio)):\n",
        "    for value in values:\n",
        "        Value_Portfolio.at[i,f\"{value}_Percentile\"] = percentile(Value_Portfolio[value], score= Value_Portfolio.at[i,value])"
      ],
      "execution_count": null,
      "outputs": []
    },
    {
      "cell_type": "code",
      "metadata": {
        "id": "H5PBPdGqSTUf"
      },
      "source": [
        "for i in range(len(Value_Portfolio)):\n",
        "    rv = []\n",
        "    for value in values:\n",
        "        rv.append(Value_Portfolio.at[i,f\"{value}_Percentile\"])\n",
        "    \n",
        "    Value_Portfolio.at[i,\"RV_Score\"] = mean(rv)"
      ],
      "execution_count": null,
      "outputs": []
    },
    {
      "cell_type": "code",
      "metadata": {
        "id": "zpcD5nHlTLlM"
      },
      "source": [
        "Value_Portfolio = Value_Portfolio.sort_values(\"RV_Score\")\n",
        "Value_Portfolio.reset_index(drop = True,inplace = True)\n",
        "Value_Portfolio = Value_Portfolio[:50]"
      ],
      "execution_count": null,
      "outputs": []
    },
    {
      "cell_type": "code",
      "metadata": {
        "id": "5wH7IL_EUxMy"
      },
      "source": [
        "Portfolio_size = float (input(\"Size_Of_Portfolio : \"))\n",
        "position_size = Portfolio_size/len(Value_Portfolio)\n",
        "\n",
        "for i in range(len(Value_Portfolio)):\n",
        "    Value_Portfolio.at[i,\"Shares_to_Buy\"] = floor (position_size/Value_Portfolio.at[i,\"Price\"])"
      ],
      "execution_count": null,
      "outputs": []
    },
    {
      "cell_type": "code",
      "metadata": {
        "id": "Fn03ZJGCkl8g"
      },
      "source": [
        "Value_Portfolio"
      ],
      "execution_count": null,
      "outputs": []
    },
    {
      "cell_type": "code",
      "metadata": {
        "id": "oRx9eMjHVwpp"
      },
      "source": [
        "api_key = \"PKAMEQNMZCA2AHDJ3ODL\"\n",
        "api_secret_key=\"8K2sB0sjvJOpgL0lRi0FQFpM9SXRLsOqPlRkH6Qg\"\n",
        "api_base_url=\"https://paper-api.alpaca.markets\"\n",
        "api = trade_api.REST(key_id=api_key,secret_key=api_secret_key,base_url=api_base_url)\n",
        "\n",
        "accnt = api.get_account()\n",
        "\n",
        "print(accnt.status)\n",
        "\n",
        "for i in range(len(Value_Portfolio)):\n",
        "    if Value_Portfolio.Symbol[i] == \"BRK-B\":\n",
        "        x = \"BRK.B\"\n",
        "    else:\n",
        "        x = Value_Portfolio.Symbol[i]\n",
        "    api.submit_order(\n",
        "        x,\n",
        "        Value_Portfolio.Shares_to_Buy[i],\n",
        "        \"buy\",\n",
        "        \"market\",\n",
        "        \"gtc\"\n",
        "    )\n",
        "    \n"
      ],
      "execution_count": null,
      "outputs": []
    }
  ]
}