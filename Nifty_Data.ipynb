{
  "nbformat": 4,
  "nbformat_minor": 0,
  "metadata": {
    "colab": {
      "name": "Nifty_Data.ipynb",
      "provenance": [],
      "collapsed_sections": [],
      "mount_file_id": "1qWu5U59s5quDa5lULqXPeMjz3ysPh4E7",
      "authorship_tag": "ABX9TyMhHOzNPLSqFunrHP7HHvZg",
      "include_colab_link": true
    },
    "kernelspec": {
      "name": "python3",
      "display_name": "Python 3"
    }
  },
  "cells": [
    {
      "cell_type": "markdown",
      "metadata": {
        "id": "view-in-github",
        "colab_type": "text"
      },
      "source": [
        "<a href=\"https://colab.research.google.com/github/Vikram-Ahuja/Stock_Portfolios/blob/main/Nifty_Data.ipynb\" target=\"_parent\"><img src=\"https://colab.research.google.com/assets/colab-badge.svg\" alt=\"Open In Colab\"/></a>"
      ]
    },
    {
      "cell_type": "code",
      "metadata": {
        "id": "0S-yqH81wNdC"
      },
      "source": [
        "import pandas as pd\n",
        "import requests as rq\n",
        "import numpy as np\n",
        "from bs4 import BeautifulSoup\n",
        "import math"
      ],
      "execution_count": null,
      "outputs": []
    },
    {
      "cell_type": "code",
      "metadata": {
        "id": "qqFw6lUQwEYb",
        "colab": {
          "base_uri": "https://localhost:8080/"
        },
        "outputId": "f938aa59-c249-4a2c-ae57-c38b1d2a8860"
      },
      "source": [
        "stocks = pd.read_excel(\"/content/drive/MyDrive/NIfty_stocks.xlsx\")\n",
        "\n",
        "stock = \"TATAMOTORS\"\n",
        "url = f\"https://www.google.com/finance/quote/{stock}:NSE\"\n",
        "\n",
        "html = rq.get(url).text\n",
        "soup = BeautifulSoup(html,\"lxml\")\n",
        "\n",
        "value_of_share = soup.find(\"div\" , class_=\"YMlKec fxKbKc\").text\n",
        "\n",
        "print(value_of_share)"
      ],
      "execution_count": null,
      "outputs": [
        {
          "output_type": "stream",
          "text": [
            "₹315.15\n"
          ],
          "name": "stdout"
        }
      ]
    },
    {
      "cell_type": "code",
      "metadata": {
        "id": "rjF95gf8zDz9"
      },
      "source": [
        "Nifty_Fifty_Stocks = pd.DataFrame(columns=[\"Symbol\",\"Price_in_Rupee\",\"Shares_to_Buy\"])\n",
        "\n",
        "for i in range(0,len(stocks)):\n",
        "    ticker = stocks.Symbols[i]\n",
        "    call_url = f\"https://www.google.com/finance/quote/{ticker}:NSE\"\n",
        "    data = rq.get(call_url).text\n",
        "    soup_data = BeautifulSoup(data,\"lxml\")\n",
        "\n",
        "    price = soup_data.find(\"div\",class_=\"YMlKec fxKbKc\").text\n",
        "    price = (price.replace(price[0],\"\"))\n",
        "    price = (price.replace(\",\",\"\"))\n",
        "\n",
        "    Nifty_Fifty_Stocks=Nifty_Fifty_Stocks.append(\n",
        "       pd.Series(\n",
        "                [\n",
        "                 ticker,\n",
        "                 price,\n",
        "                 \"N/A\"\n",
        "                ],  \n",
        "                index=[\"Symbol\",\"Price_in_Rupee\",\"Shares_to_Buy\"]\n",
        "                ),\n",
        "            ignore_index=True\n",
        "       )"
      ],
      "execution_count": null,
      "outputs": []
    },
    {
      "cell_type": "code",
      "metadata": {
        "colab": {
          "base_uri": "https://localhost:8080/"
        },
        "id": "UbGNlWYFI1w9",
        "outputId": "f8a4aa00-b773-4a02-86f9-ce10b324e158"
      },
      "source": [
        "Portfolio_size = float (input(\"Enter Your Portfolio_size : \"))\n",
        "\n",
        "position_size = float (Portfolio_size/len(stocks))\n",
        "\n",
        "for j in range(0,len(stocks)):\n",
        "    Nifty_Fifty_Stocks.Shares_to_Buy[j]= math.floor(position_size/float (Nifty_Fifty_Stocks.Price_in_Rupee[j]))"
      ],
      "execution_count": null,
      "outputs": [
        {
          "output_type": "stream",
          "text": [
            "Enter Your Portfolio_size : 100000\n"
          ],
          "name": "stdout"
        }
      ]
    },
    {
      "cell_type": "code",
      "metadata": {
        "id": "VHP4WDQDNFMs"
      },
      "source": [
        "one_year_return = pd.DataFrame(columns=[\"One_Year_Return\"])\n",
        "\n",
        "for stock in stocks.Symbols:\n",
        "    url = f\"https://markets.ft.com/data/equities/tearsheet/summary?s={stock}:NSI\"\n",
        "\n",
        "    html = rq.get(url).text\n",
        "\n",
        "    soup = BeautifulSoup(html , \"lxml\")\n",
        "\n",
        "    price = soup.find_all(\"span\",class_=\"mod-format--pos\")\n",
        "    if len(price) == 1:\n",
        "        Return = price[0].text.replace(\"%\",\"\")\n",
        "        Return = Return.replace(\",\",\"\")\n",
        "    else :\n",
        "        Return = price[1].text.replace(\"%\",\"\")\n",
        "        Return = Return.replace(\",\",\"\")\n",
        "    one_year_return = one_year_return.append(\n",
        "        pd.Series(\n",
        "            [float (Return)],\n",
        "            index= [\"One_Year_Return\"]\n",
        "        ),\n",
        "        ignore_index= True\n",
        "    )"
      ],
      "execution_count": null,
      "outputs": []
    },
    {
      "cell_type": "code",
      "metadata": {
        "id": "NcZ85Zu03JYT"
      },
      "source": [
        "one_year_return.reset_index(drop=True)"
      ],
      "execution_count": null,
      "outputs": []
    },
    {
      "cell_type": "code",
      "metadata": {
        "id": "V1NYj2Lws1fD"
      },
      "source": [
        "Nifty_Fifty_Stocks.insert(3,\"One_Year_Return\" , one_year_return,True)"
      ],
      "execution_count": null,
      "outputs": []
    },
    {
      "cell_type": "code",
      "metadata": {
        "id": "ZZ_a15HBtW7M"
      },
      "source": [
        "Nifty_Fifty_Stocks.to_csv(\"Nifty_Stocks_data.csv\",index=False)"
      ],
      "execution_count": null,
      "outputs": []
    }
  ]
}