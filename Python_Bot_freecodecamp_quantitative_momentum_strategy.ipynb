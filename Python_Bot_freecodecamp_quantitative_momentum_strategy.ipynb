{
  "nbformat": 4,
  "nbformat_minor": 0,
  "metadata": {
    "colab": {
      "name": "Python_Bot_freecodecamp_quantitative_momentum_strategy.ipynb",
      "provenance": [],
      "collapsed_sections": [],
      "mount_file_id": "16y6G-o5xiz5U5-bq9hvVeXDEurTSTMCV",
      "authorship_tag": "ABX9TyPD3At94stppf56lXKJFnW8",
      "include_colab_link": true
    },
    "kernelspec": {
      "name": "python3",
      "display_name": "Python 3"
    }
  },
  "cells": [
    {
      "cell_type": "markdown",
      "metadata": {
        "id": "view-in-github",
        "colab_type": "text"
      },
      "source": [
        "<a href=\"https://colab.research.google.com/github/Vikram-Ahuja/Stock_Portfolios/blob/main/Python_Bot_freecodecamp_quantitative_momentum_strategy.ipynb\" target=\"_parent\"><img src=\"https://colab.research.google.com/assets/colab-badge.svg\" alt=\"Open In Colab\"/></a>"
      ]
    },
    {
      "cell_type": "code",
      "metadata": {
        "id": "8Lv8EnEPEbHY"
      },
      "source": [
        "import pandas as pd\n",
        "import numpy as np\n",
        "import requests\n",
        "import math\n",
        "from scipy import stats"
      ],
      "execution_count": null,
      "outputs": []
    },
    {
      "cell_type": "code",
      "metadata": {
        "colab": {
          "base_uri": "https://localhost:8080/"
        },
        "id": "U5s-OMlpYOyg",
        "outputId": "f6fb3ca0-6de4-443b-c34e-0ad6adcd19a8"
      },
      "source": [
        "stocks = pd.read_csv(\"/content/drive/MyDrive/sp_500_stocks.csv\")\n",
        "api_token = \"186b12d3aeb74b95ac7886dd0c1e82cc\"\n",
        "symbol = \"AAPL\"\n",
        "base_url =f\"https://api.twelvedata.com/price?symbol={symbol}&apikey={api_token}\"\n",
        "data = requests.get(base_url).json()\n",
        "\n",
        "data"
      ],
      "execution_count": null,
      "outputs": [
        {
          "output_type": "execute_result",
          "data": {
            "text/plain": [
              "{'price': '121.23000'}"
            ]
          },
          "metadata": {
            "tags": []
          },
          "execution_count": 19
        }
      ]
    },
    {
      "cell_type": "code",
      "metadata": {
        "colab": {
          "base_uri": "https://localhost:8080/",
          "height": 49
        },
        "id": "RdTPG41wlUYr",
        "outputId": "720197a0-999d-45f9-ceb1-fb99eb340e4d"
      },
      "source": [
        "My_col = ['Ticker', 'Price', 'One-Year_Price_Return', 'Number_of_Shares_to_Buy']\n",
        "My_Stock_Momentum_Data = pd.DataFrame(columns=My_col)\n",
        "\n",
        "My_Stock_Momentum_Data"
      ],
      "execution_count": null,
      "outputs": [
        {
          "output_type": "execute_result",
          "data": {
            "text/html": [
              "<div>\n",
              "<style scoped>\n",
              "    .dataframe tbody tr th:only-of-type {\n",
              "        vertical-align: middle;\n",
              "    }\n",
              "\n",
              "    .dataframe tbody tr th {\n",
              "        vertical-align: top;\n",
              "    }\n",
              "\n",
              "    .dataframe thead th {\n",
              "        text-align: right;\n",
              "    }\n",
              "</style>\n",
              "<table border=\"1\" class=\"dataframe\">\n",
              "  <thead>\n",
              "    <tr style=\"text-align: right;\">\n",
              "      <th></th>\n",
              "      <th>Ticker</th>\n",
              "      <th>Price</th>\n",
              "      <th>One-Year_Price_Return</th>\n",
              "      <th>Number_of_Shares_to_Buy</th>\n",
              "    </tr>\n",
              "  </thead>\n",
              "  <tbody>\n",
              "  </tbody>\n",
              "</table>\n",
              "</div>"
            ],
            "text/plain": [
              "Empty DataFrame\n",
              "Columns: [Ticker, Price, One-Year_Price_Return, Number_of_Shares_to_Buy]\n",
              "Index: []"
            ]
          },
          "metadata": {
            "tags": []
          },
          "execution_count": 4
        }
      ]
    },
    {
      "cell_type": "code",
      "metadata": {
        "id": "3vBI107ImRsa"
      },
      "source": [
        "def chunks(lst, n):\n",
        "    \"\"\"Yield successive n-sized chunks from lst.\"\"\"\n",
        "    for i in range(0, len(lst), n):\n",
        "        yield lst[i:i + n]   \n",
        "        \n",
        "symbol_groups = list(chunks(stocks['Ticker'], 100))\n",
        "symbol_strings = []\n",
        "for i in range(0, len(symbol_groups)):\n",
        "    symbol_strings.append(','.join(symbol_groups[i]))\n",
        "\n",
        "for symbol_string in symbol_strings:\n",
        "    batch_url = f\"https://sandbox.iexapis.com/stable/stock/market/batch?symbols={symbol_string}&types=price,stats&token={api_token}\"\n",
        "    data = requests.get(batch_url).json()\n",
        "    for symbol in symbol_string.split(\",\"):\n",
        "        My_Stock_Momentum_Data = My_Stock_Momentum_Data.append(\n",
        "            pd.Series(\n",
        "                [\n",
        "                 symbol,\n",
        "                 data[symbol][\"price\"],\n",
        "                 data[symbol][\"stats\"][\"year1ChangePercent\"],\n",
        "                 \"N/A\"\n",
        "                ],\n",
        "                index=My_col\n",
        "            ),\n",
        "            ignore_index=True\n",
        "        )\n",
        "        "
      ],
      "execution_count": null,
      "outputs": []
    },
    {
      "cell_type": "code",
      "metadata": {
        "id": "SXfN2OYOrKb4"
      },
      "source": [
        "My_Stock_Momentum_Data"
      ],
      "execution_count": null,
      "outputs": []
    },
    {
      "cell_type": "code",
      "metadata": {
        "id": "FcAOa3uAryBM"
      },
      "source": [
        "My_Stock_Momentum_Data = My_Stock_Momentum_Data.sort_values('One-Year_Price_Return',ascending=False,ignore_index=True)\n",
        "My_Stock_Momentum_Data = My_Stock_Momentum_Data[:50]\n",
        "\n",
        "My_Stock_Momentum_Data"
      ],
      "execution_count": null,
      "outputs": []
    },
    {
      "cell_type": "code",
      "metadata": {
        "id": "g8k9-VpFv9W2"
      },
      "source": [
        "My_Portfoliio_size = int(input(\"Enter Your Size : \"))\n",
        "position_size = My_Portfoliio_size/len(My_Stock_Momentum_Data)\n",
        "\n",
        "for ind in range(len(My_Stock_Momentum_Data)):\n",
        "    no_stocks_to_buy = math.floor(position_size/My_Stock_Momentum_Data.Price[ind])\n",
        "    My_Stock_Momentum_Data.Number_of_Shares_to_Buy[ind] = no_stocks_to_buy  "
      ],
      "execution_count": null,
      "outputs": []
    },
    {
      "cell_type": "code",
      "metadata": {
        "id": "HIvtEDKnwo8D"
      },
      "source": [
        "My_Stock_Momentum_Data.to_csv(\"/content/drive/MyDrive/Python_Momentum_Portfolio.csv\")"
      ],
      "execution_count": null,
      "outputs": []
    }
  ]
}