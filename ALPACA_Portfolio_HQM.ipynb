{
  "nbformat": 4,
  "nbformat_minor": 0,
  "metadata": {
    "colab": {
      "name": "ALPACA_Portfolio_HQM.ipynb",
      "provenance": [],
      "collapsed_sections": [],
      "mount_file_id": "1TOkAPDLuBkE8ii3ZuKwW9LMYKLdAlR45",
      "authorship_tag": "ABX9TyPwyC88sq9WNHHO2D+uajEy",
      "include_colab_link": true
    },
    "kernelspec": {
      "display_name": "Python 3",
      "name": "python3"
    }
  },
  "cells": [
    {
      "cell_type": "markdown",
      "metadata": {
        "id": "view-in-github",
        "colab_type": "text"
      },
      "source": [
        "<a href=\"https://colab.research.google.com/github/Vikram-Ahuja/Stock_Portfolios/blob/main/ALPACA_Portfolio_HQM.ipynb\" target=\"_parent\"><img src=\"https://colab.research.google.com/assets/colab-badge.svg\" alt=\"Open In Colab\"/></a>"
      ]
    },
    {
      "cell_type": "code",
      "metadata": {
        "id": "0sEe468jdyBS"
      },
      "source": [
        "import alpaca_trade_api as trade_api\n",
        "import pandas as pd\n",
        "import requests as rq\n",
        "from bs4 import BeautifulSoup\n",
        "import datetime as dt\n",
        "from scipy import stats\n",
        "from statistics import mean\n",
        "from math import floor "
      ],
      "execution_count": null,
      "outputs": []
    },
    {
      "cell_type": "code",
      "metadata": {
        "id": "DcvZnfUVZdra"
      },
      "source": [
        "def return_calculator(stock,time):\n",
        "    try:\n",
        "        x = float(stocks_month_price[stock].Close[time])\n",
        "        y = float(stocks_month_price[stock].Close[0])\n",
        "    except:\n",
        "        x = float(stocks_month_price[stock].Close[time+1])\n",
        "        y = float(stocks_month_price[stock].Close[1])\n",
        "    return_ = (y-x)*100/x\n",
        "    percent = round(return_ , 4)\n",
        "    return percent\n",
        "\n",
        "def price_scrape(stock):\n",
        "    url = f\"https://in.finance.yahoo.com/quote/{stock}\"\n",
        "    data = rq.get(url).text\n",
        "    soup = BeautifulSoup(data,\"lxml\")\n",
        "    price1 = soup.find(\"span\",class_ = \"Trsdu(0.3s) Fw(b) Fz(36px) Mb(-4px) D(ib)\")\n",
        "    price = price1.text.replace(\",\",\"\")\n",
        "\n",
        "    return float(price)"
      ],
      "execution_count": null,
      "outputs": []
    },
    {
      "cell_type": "code",
      "metadata": {
        "id": "h_n_crd5ZqRT",
        "colab": {
          "base_uri": "https://localhost:8080/"
        },
        "outputId": "6f1f1734-de76-4384-8767-bb46c2fe8c51"
      },
      "source": [
        "stocks = pd.read_csv(\"/content/drive/MyDrive/S&P_500.csv\")\n",
        "stocks_month_price ={}\n",
        "rejected_stocks = []\n",
        "for stock in stocks.Symbol: \n",
        "    try:\n",
        "        d = pd.read_html(f\"https://in.finance.yahoo.com/quote/{stock}/history?period1=1514764800&period2=1615334400&interval=1mo&filter=history&frequency=1mo&includeAdjustedClose=true\")\n",
        "        d = d[0][:25]\n",
        "    \n",
        "        del d['Volume']\n",
        "        del d['Close*']\n",
        "        d = d.rename(columns={\"Adj. close**\": \"Close\"})\n",
        "        stocks_month_price[stock]  = d \n",
        "\n",
        "        for i in range(len(stocks_month_price[stock])):\n",
        "            x = stocks_month_price[stock].Date[i]\n",
        "            if \"01-\" not in x:\n",
        "                stocks_month_price[stock].drop([i], inplace = True)\n",
        "\n",
        "        stocks_month_price[stock].reset_index(drop=True,inplace =True)\n",
        "    except:\n",
        "        print(stock)\n",
        "        rejected_stocks.append(stock)"
      ],
      "execution_count": null,
      "outputs": [
        {
          "output_type": "stream",
          "text": [
            "CTXS\n"
          ],
          "name": "stdout"
        }
      ]
    },
    {
      "cell_type": "code",
      "metadata": {
        "id": "M8F1HCEWal-z"
      },
      "source": [
        "for stock in rejected_stocks:\n",
        "    try:\n",
        "        d = pd.read_html(f\"https://in.finance.yahoo.com/quote/{stock}/history?period1=1514764800&period2=1615334400&interval=1mo&filter=history&frequency=1mo&includeAdjustedClose=true\")\n",
        "        d = d[0][:25]\n",
        "    \n",
        "        del d['Volume']\n",
        "        del d['Close*']\n",
        "        d = d.rename(columns={\"Adj. close**\": \"Close\"})\n",
        "        stocks_month_price[stock]  = d \n",
        "\n",
        "        for i in range(len(stocks_month_price[stock])):\n",
        "            x = stocks_month_price[stock].Date[i]\n",
        "            if \"01-\" not in x:\n",
        "                stocks_month_price[stock].drop([i], inplace = True)\n",
        "\n",
        "        stocks_month_price[stock].reset_index(drop=True,inplace =True)\n",
        "    except:\n",
        "        print(stock)\n",
        "        rejected_stocks.append(stock)"
      ],
      "execution_count": null,
      "outputs": []
    },
    {
      "cell_type": "code",
      "metadata": {
        "id": "yJrNnwlRFxg1"
      },
      "source": [
        "for stock in stocks.Symbol:\n",
        "    if stocks_month_price[stock].empty == True:\n",
        "        stocks_month_price.pop(stock)\n",
        "        stock = stock.replace(\".\",\"-\")\n",
        "        d = pd.read_html(f\"https://in.finance.yahoo.com/quote/{stock}/history?period1=1514764800&period2=1615334400&interval=1mo&filter=history&frequency=1mo&includeAdjustedClose=true\")\n",
        "        d = d[0][:25]\n",
        "    \n",
        "        del d['Volume']\n",
        "        del d['Close*']\n",
        "        d = d.rename(columns={\"Adj. close**\": \"Close\"})\n",
        "        stocks_month_price[stock]  = d \n",
        "\n",
        "        for i in range(len(stocks_month_price[stock])):\n",
        "            x = stocks_month_price[stock].Date[i]\n",
        "            if \"01-\" not in x:\n",
        "                stocks_month_price[stock].drop([i], inplace = True)\n",
        "\n",
        "        stocks_month_price[stock].reset_index(drop=True,inplace =True)\n"
      ],
      "execution_count": null,
      "outputs": []
    },
    {
      "cell_type": "code",
      "metadata": {
        "id": "d2-Zy8mCZly6"
      },
      "source": [
        "hqm_column = [\"Symbol\", \"One_Year_return\",\"One_Year_return_percentile\" , \"Six_month_return\",\"Six_month_return_percentile\",\"Three_month_return\",\"Three_month_return_percentile\",\"One_month_return\",\"One_month_return_percentile\",\"HQM_Score\",\"Stocks_to_BUY\"]\n",
        "hqm_NASDAQ_50_Porfolio = pd.DataFrame(columns=hqm_column)\n",
        "\n",
        "for stock in stocks.Symbol:\n",
        "    try:\n",
        "        One_Year_return = return_calculator(stock,12)\n",
        "        Six_month_return = return_calculator(stock,6)\n",
        "        Three_month_return = return_calculator(stock,3)\n",
        "        One_month_return =return_calculator(stock,1)\n",
        "        hqm_NASDAQ_50_Porfolio = hqm_NASDAQ_50_Porfolio.append(\n",
        "            pd.Series(\n",
        "                [\n",
        "                stock,\n",
        "                One_Year_return,\n",
        "                \"N/A\", \n",
        "                Six_month_return,\n",
        "                \"N/A\",\n",
        "                Three_month_return,\n",
        "                \"N/A\",\n",
        "                One_month_return,\n",
        "                \"N/A\",\n",
        "                \"N/A\",\n",
        "                \"N/A\"\n",
        "                ],\n",
        "                index =hqm_column\n",
        "            ),\n",
        "            ignore_index = True\n",
        "            )\n",
        "    except:\n",
        "        print(stock)\n"
      ],
      "execution_count": null,
      "outputs": []
    },
    {
      "cell_type": "code",
      "metadata": {
        "id": "uYQbnYxvbHVs"
      },
      "source": [
        "time_period = [\"One_Year\",\"Six_month\",\"Three_month\",\"One_month\"]\n",
        "\n",
        "for row in hqm_NASDAQ_50_Porfolio.index:\n",
        "    for time in time_period:\n",
        "        hqm_NASDAQ_50_Porfolio.at[row,f\"{time}_return_percentile\"] = float(stats.percentileofscore(hqm_NASDAQ_50_Porfolio[f\"{time}_return\"],hqm_NASDAQ_50_Porfolio.at[row,f\"{time}_return\"]))"
      ],
      "execution_count": null,
      "outputs": []
    },
    {
      "cell_type": "code",
      "metadata": {
        "id": "VQchWwL6b7dH"
      },
      "source": [
        "for row in hqm_NASDAQ_50_Porfolio.index:\n",
        "    l = []\n",
        "    for time in time_period:\n",
        "        l.append(hqm_NASDAQ_50_Porfolio.at[row,f\"{time}_return_percentile\"])\n",
        "    avg = mean(l)\n",
        "    hqm_NASDAQ_50_Porfolio.at[row,\"HQM_Score\"] = avg"
      ],
      "execution_count": null,
      "outputs": []
    },
    {
      "cell_type": "code",
      "metadata": {
        "id": "rlSvzaVCcHvd"
      },
      "source": [
        "NASDAQ_Portfolio_HQM = hqm_NASDAQ_50_Porfolio.sort_values(\"HQM_Score\",ascending=False,ignore_index=True)[:50]\n",
        "\n",
        "NASDAQ_Portfolio_HQM"
      ],
      "execution_count": null,
      "outputs": []
    },
    {
      "cell_type": "code",
      "metadata": {
        "colab": {
          "base_uri": "https://localhost:8080/"
        },
        "id": "kL9YJT87soJs",
        "outputId": "2fda4aa9-3019-4cc4-8615-c7e62278771d"
      },
      "source": [
        "portfolio_size = float(input(\"Enter Portfolio Size: \"))\n",
        "position_size = portfolio_size/len(NASDAQ_Portfolio_HQM)\n",
        "\n",
        "for i in range(len(NASDAQ_Portfolio_HQM)):\n",
        "    NASDAQ_Portfolio_HQM.at[i , \"Stocks_to_BUY\"] = floor(position_size/price_scrape(NASDAQ_Portfolio_HQM.Symbol[i]))"
      ],
      "execution_count": null,
      "outputs": [
        {
          "output_type": "stream",
          "text": [
            "Enter Portfolio Size: 100000\n"
          ],
          "name": "stdout"
        }
      ]
    },
    {
      "cell_type": "code",
      "metadata": {
        "id": "ajj6CtRh-MMF"
      },
      "source": [
        "NASDAQ_Portfolio_HQM"
      ],
      "execution_count": null,
      "outputs": []
    },
    {
      "cell_type": "code",
      "metadata": {
        "id": "SSpxFsDMDsm0",
        "colab": {
          "base_uri": "https://localhost:8080/"
        },
        "outputId": "15dd70a9-f4b7-43a9-8326-f29684ac89cc"
      },
      "source": [
        "api_key = \"PKAMEQNMZCA2AHDJ3ODL\"\n",
        "api_secret_key=\"8K2sB0sjvJOpgL0lRi0FQFpM9SXRLsOqPlRkH6Qg\"\n",
        "api_base_url=\"https://paper-api.alpaca.markets\"\n",
        "api = trade_api.REST(key_id=api_key, secret_key=api_secret_key, base_url=api_base_url)\n",
        "\n",
        "print (api.get_account().status)\n",
        "\n",
        "for i in range (len(NASDAQ_Portfolio_HQM)):\n",
        "    volume = NASDAQ_Portfolio_HQM.Stocks_to_BUY[i]\n",
        "    sym = NASDAQ_Portfolio_HQM.Symbol[i]\n",
        "    api.submit_order(sym,volume,\"buy\",\"market\",\"gtc\")"
      ],
      "execution_count": null,
      "outputs": [
        {
          "output_type": "stream",
          "text": [
            "ACTIVE\n"
          ],
          "name": "stdout"
        }
      ]
    }
  ]
}