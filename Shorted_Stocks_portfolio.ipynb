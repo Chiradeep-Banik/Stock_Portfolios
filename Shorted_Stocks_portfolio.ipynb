{
  "nbformat": 4,
  "nbformat_minor": 0,
  "metadata": {
    "colab": {
      "name": "Shorted_Stocks_portfolio.ipynb",
      "provenance": [],
      "collapsed_sections": [],
      "mount_file_id": "16TGq-0cDBsg60TqaQ2oTBDYc5n96SGBB",
      "authorship_tag": "ABX9TyPho6u2j53lh0HNsQWpVUM6",
      "include_colab_link": true
    },
    "kernelspec": {
      "name": "python3",
      "display_name": "Python 3"
    },
    "language_info": {
      "name": "python"
    }
  },
  "cells": [
    {
      "cell_type": "markdown",
      "metadata": {
        "id": "view-in-github",
        "colab_type": "text"
      },
      "source": [
        "<a href=\"https://colab.research.google.com/github/Vikram-Ahuja/Stock_Portfolios/blob/main/Shorted_Stocks_portfolio.ipynb\" target=\"_parent\"><img src=\"https://colab.research.google.com/assets/colab-badge.svg\" alt=\"Open In Colab\"/></a>"
      ]
    },
    {
      "cell_type": "code",
      "metadata": {
        "id": "84bM5S1b1zSK"
      },
      "source": [
        "import pandas as pd \n",
        "from bs4 import BeautifulSoup\n",
        "import requests as rq\n",
        "from math import floor,isnan\n",
        "import alpaca_trade_api as trade_api"
      ],
      "execution_count": null,
      "outputs": []
    },
    {
      "cell_type": "code",
      "metadata": {
        "id": "DREOZMynQ6_X"
      },
      "source": [
        "def price_scrape(stock):\n",
        "    url = f\"https://in.finance.yahoo.com/quote/{stock}\"\n",
        "\n",
        "    data = rq.get(url).text\n",
        "    soup = BeautifulSoup(data,\"lxml\")\n",
        "    price2 = soup.find_all(\"span\")\n",
        "    price = price2[19].text\n",
        "    price = price.replace(\",\",\"\")\n",
        "    price = price.replace(\"$\" ,\"\")\n",
        "    return float (price)"
      ],
      "execution_count": null,
      "outputs": []
    },
    {
      "cell_type": "code",
      "metadata": {
        "id": "yHP9NXXn2FzN"
      },
      "source": [
        "rejected_stocks2=[]\n",
        "\n",
        "for stock in rejected_stocks:\n",
        "    stock = stock.replace(\".\",\"-\")\n",
        "    print(stock)\n",
        "    url =f\"https://in.finance.yahoo.com/quote/{stock}/key-statistics\"\n",
        "    data = pd.read_html(url)\n",
        "    short = data[2].iloc[8,1]\n",
        "    short = short.replace(\"%\",\"\")\n",
        "    short = short.replace(\",\",\"\")\n",
        "\n",
        "    short_frame = short_frame.append(\n",
        "        pd.Series([\n",
        "            stock,\n",
        "            float (short)\n",
        "        ],\n",
        "        index = col),\n",
        "        ignore_index= True\n",
        "    )\n"
      ],
      "execution_count": null,
      "outputs": []
    },
    {
      "cell_type": "code",
      "metadata": {
        "id": "-XVPD_Wv18u-"
      },
      "source": [
        "stocks = pd.read_csv(\"/content/drive/MyDrive/S&P_500.csv\")\n",
        "\n",
        "col = [\"Symbol\" , \"Short_Of_Float_Percent\"]\n",
        "\n",
        "short_frame = pd.DataFrame(columns=col)\n",
        "\n",
        "rejected_stocks=[]\n",
        "\n",
        "for stock in stocks.Symbol:\n",
        "    stock = stock.replace(\".\",\"-\")\n",
        "    try:\n",
        "        url =f\"https://in.finance.yahoo.com/quote/{stock}/key-statistics\"\n",
        "        data = pd.read_html(url)\n",
        "\n",
        "        short = data[2].iloc[8,1]\n",
        "        short = short.replace(\"%\",\"\")\n",
        "        short = short.replace(\",\",\"\")\n",
        "\n",
        "        short_frame = short_frame.append(\n",
        "            pd.Series([\n",
        "                       stock,\n",
        "                       float (short)\n",
        "            ],\n",
        "            index = col),\n",
        "            ignore_index= True\n",
        "        )\n",
        "    except:\n",
        "        print(stock)\n",
        "        rejected_stocks.append(stock)\n",
        "\n",
        "\n"
      ],
      "execution_count": null,
      "outputs": []
    },
    {
      "cell_type": "code",
      "metadata": {
        "id": "olKpqYIm_lk-"
      },
      "source": [
        "short_frame = short_frame.sort_values(\"Short_Of_Float_Percent\",ascending=False)\n",
        "short_frame = short_frame.reset_index(drop=True)\n",
        "\n",
        "short_frame = short_frame[:50]"
      ],
      "execution_count": null,
      "outputs": []
    },
    {
      "cell_type": "code",
      "metadata": {
        "id": "ayLs-bb5PzDg"
      },
      "source": [
        "val = []\n",
        "\n",
        "for stock in short_frame.Symbol:\n",
        "    val.append(price_scrape(stock))\n",
        "\n",
        "short_frame.insert(2,\"Price\",val)\n"
      ],
      "execution_count": null,
      "outputs": []
    },
    {
      "cell_type": "code",
      "metadata": {
        "id": "8fYEnIaUDhNF"
      },
      "source": [
        "short_frame = short_frame.drop(\"shares_to_buy\",axis=1)"
      ],
      "execution_count": null,
      "outputs": []
    },
    {
      "cell_type": "code",
      "metadata": {
        "id": "T6WLPuzkRSl3"
      },
      "source": [
        "shares_to_buy = []\n",
        "portfolio_size = float(input(\"SIZE OF YOUR PORTFOLIO : \"))\n",
        "position_size = portfolio_size/len(short_frame)\n",
        "for i in range(len(short_frame)):\n",
        "    shares_to_buy.append(int(floor(position_size/short_frame.Price[i])))\n",
        "\n",
        "short_frame.insert(3,\"shares_to_buy\",shares_to_buy)\n"
      ],
      "execution_count": null,
      "outputs": []
    },
    {
      "cell_type": "code",
      "metadata": {
        "id": "VF5z9pYlXI7H"
      },
      "source": [
        "api_key = \"PKAMEQNMZCA2AHDJ3ODL\"\n",
        "api_secret_key=\"8K2sB0sjvJOpgL0lRi0FQFpM9SXRLsOqPlRkH6Qg\"\n",
        "api_base_url=\"https://paper-api.alpaca.markets\"\n",
        "api = trade_api.REST(key_id=api_key, secret_key=api_secret_key, base_url=api_base_url)\n",
        "\n",
        "print (api.get_account().status)\n",
        "\n",
        "for i in range (len(short_frame)):\n",
        "    volume = int (short_frame.shares_to_buy[i])\n",
        "    sym = short_frame.Symbol[i]\n",
        "    print(volume,sym)\n",
        "    api.submit_order(sym,volume,\"buy\",\"market\",\"gtc\")\n",
        "    "
      ],
      "execution_count": null,
      "outputs": []
    }
  ]
}