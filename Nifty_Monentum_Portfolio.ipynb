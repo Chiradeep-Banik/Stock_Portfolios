{
  "nbformat": 4,
  "nbformat_minor": 0,
  "metadata": {
    "colab": {
      "name": "Nifty_Monentum_Portfolio.ipynb",
      "provenance": [],
      "collapsed_sections": [],
      "mount_file_id": "14HMuR10u4sN-eN7GMWnVgJ4l-I9Se0dT",
      "authorship_tag": "ABX9TyNeMxVuxI5rdkbboqXQg05e",
      "include_colab_link": true
    },
    "kernelspec": {
      "name": "python3",
      "display_name": "Python 3"
    }
  },
  "cells": [
    {
      "cell_type": "markdown",
      "metadata": {
        "id": "view-in-github",
        "colab_type": "text"
      },
      "source": [
        "<a href=\"https://colab.research.google.com/github/Vikram-Ahuja/Stock_Portfolios/blob/main/Nifty_Monentum_Portfolio.ipynb\" target=\"_parent\"><img src=\"https://colab.research.google.com/assets/colab-badge.svg\" alt=\"Open In Colab\"/></a>"
      ]
    },
    {
      "cell_type": "code",
      "metadata": {
        "id": "qrkb68-twQR_"
      },
      "source": [
        "import pandas as pd\n",
        "import numpy as np\n",
        "import requests as rq\n",
        "from bs4 import BeautifulSoup\n",
        "import datetime as dt\n",
        "from scipy import stats\n",
        "from statistics import mean"
      ],
      "execution_count": null,
      "outputs": []
    },
    {
      "cell_type": "code",
      "metadata": {
        "id": "6J5WHEJ7wmmv"
      },
      "source": [
        "Nifty_data = pd.read_csv(\"/content/drive/MyDrive/Nifty_Stocks_data.csv\")\n",
        "\n",
        "Nifty_Data_sorted = Nifty_data.sort_values(\"One_Year_Return\", ascending=False,ignore_index=True)\n",
        "\n",
        "Nifty_Portfolio_15 = Nifty_Data_sorted[:15]\n",
        "\n",
        "Nifty_Portfolio_15.to_csv(\"/content/drive/MyDrive/Nifty_Portfolio.csv\")"
      ],
      "execution_count": null,
      "outputs": []
    },
    {
      "cell_type": "code",
      "metadata": {
        "id": "4V42eFxpMVnj"
      },
      "source": [
        "stocks = pd.read_excel(\"/content/drive/MyDrive/NIfty_stocks.xlsx\")\n",
        "stocks_month_price ={}\n",
        "for stock in stocks.Symbols: \n",
        "    d = pd.read_html(f\"https://in.finance.yahoo.com/quote/{stock}.NS/history?period1=1514764800&period2=1615334400&interval=1mo&filter=history&frequency=1mo&includeAdjustedClose=true\")\n",
        "    d = d[0][:30]\n",
        "    \n",
        "    del d['Volume']\n",
        "    del d['Close*']\n",
        "    d = d.rename(columns={\"Adj. close**\": \"Close\"})\n",
        "    stocks_month_price[stock]  = d \n",
        "\n",
        "    for i in range(len(stocks_month_price[stock])):\n",
        "        x = stocks_month_price[stock].Date[i]\n",
        "        if \"01-\" not in x:\n",
        "            stocks_month_price[stock].drop([i], inplace = True)\n",
        "\n",
        "    stocks_month_price[stock].reset_index(drop=True,inplace =True) \n",
        "     \n"
      ],
      "execution_count": null,
      "outputs": []
    },
    {
      "cell_type": "code",
      "metadata": {
        "id": "XXvr7VxaMUUL"
      },
      "source": [
        "def return_calculator(stock,time):\n",
        "    try:\n",
        "        x = float(stocks_month_price[stock].Close[time])\n",
        "        y = float(stocks_month_price[stock].Close[0])\n",
        "    except:\n",
        "        x = float(stocks_month_price[stock].Close[time+1])\n",
        "        y = float(stocks_month_price[stock].Close[1])\n",
        "    return_ = (y-x)*100/x\n",
        "    percent = round(return_ , 4)\n",
        "    return percent\n",
        "\n",
        "def google_price_scrape(stock):\n",
        "    url = f\"https://www.google.com/finance/quote/{stock}:NSE\"\n",
        "    data = rq.get(url).text\n",
        "    soup = BeautifulSoup(data,\"lxml\")\n",
        "    price1 = soup.find(\"div\",class_ = \"YMlKec fxKbKc\")\n",
        "    price2 = price1.text.replace(\",\",\"\")\n",
        "    price = price2[1:]\n",
        "    return price"
      ],
      "execution_count": null,
      "outputs": []
    },
    {
      "cell_type": "code",
      "metadata": {
        "id": "RYp5-SyGNNmv"
      },
      "source": [
        "hqm_column = [\"Symbol\" , \"Price\" , \"One_Year_return\",\"One_Year_return_percentile\" , \"Six_month_return\",\"Six_month_return_percentile\",\"Three_month_return\",\"Three_month_return_percentile\",\"One_month_return\",\"One_month_return_percentile\",\"HQM_Score\"]\n",
        "hqm_Nifty_50_Porfolio_15 = pd.DataFrame(columns=hqm_column)\n",
        "\n",
        "for stock in stocks.Symbols:\n",
        "    price = google_price_scrape(stock)\n",
        "    One_Year_return = return_calculator(stock,12)\n",
        "    Six_month_return = return_calculator(stock,6)\n",
        "    Three_month_return = return_calculator(stock,3)\n",
        "    One_month_return =return_calculator(stock,1)\n",
        "    hqm_Nifty_50_Porfolio_15 = hqm_Nifty_50_Porfolio_15.append(\n",
        "        pd.Series(\n",
        "            [\n",
        "            stock,\n",
        "            price,\n",
        "            One_Year_return,\n",
        "            \"N/A\", \n",
        "            Six_month_return,\n",
        "            \"N/A\",\n",
        "            Three_month_return,\n",
        "            \"N/A\",\n",
        "            One_month_return,\n",
        "            \"N/A\",\n",
        "            \"N/A\"\n",
        "            ],\n",
        "            index =hqm_column\n",
        "        ),\n",
        "        ignore_index = True\n",
        "    )\n"
      ],
      "execution_count": null,
      "outputs": []
    },
    {
      "cell_type": "code",
      "metadata": {
        "id": "Ai3MsgrUQUT9"
      },
      "source": [
        "hqm_"
      ],
      "execution_count": null,
      "outputs": []
    },
    {
      "cell_type": "code",
      "metadata": {
        "id": "EmFZ0VevcsHh"
      },
      "source": [
        "time_period = [\"One_Year\",\"Six_month\",\"Three_month\",\"One_month\"]\n",
        "\n",
        "for row in hqm_Nifty_50_Porfolio_15.index:\n",
        "    for time in time_period:\n",
        "        hqm_Nifty_50_Porfolio_15.at[row,f\"{time}_return_percentile\"] = float(stats.percentileofscore(hqm_Nifty_50_Porfolio_15[f\"{time}_return\"],hqm_Nifty_50_Porfolio_15.at[row,f\"{time}_return\"]))"
      ],
      "execution_count": null,
      "outputs": []
    },
    {
      "cell_type": "code",
      "metadata": {
        "id": "KmDN7nCwymjw"
      },
      "source": [
        "for row in hqm_Nifty_50_Porfolio_15.index:\n",
        "    l = []\n",
        "    for time in time_period:\n",
        "        l.append(hqm_Nifty_50_Porfolio_15.at[row,f\"{time}_return_percentile\"])\n",
        "    avg = mean(l)\n",
        "    hqm_Nifty_50_Porfolio_15.at[row,\"HQM_Score\"] = avg"
      ],
      "execution_count": null,
      "outputs": []
    },
    {
      "cell_type": "code",
      "metadata": {
        "id": "jAadIBMz7AVt"
      },
      "source": [
        "Nifty_Portfolio_HQM_15 = hqm_Nifty_50_Porfolio_15.sort_values(\"HQM_Score\",ascending=False,ignore_index=True)[:15]\n",
        "\n",
        "Nifty_Portfolio_HQM_15.to_csv(\"/content/drive/MyDrive/Nifty_Portfolio_Momentum.csv\")"
      ],
      "execution_count": null,
      "outputs": []
    },
    {
      "cell_type": "code",
      "metadata": {
        "id": "GGVwPCPr6NLR"
      },
      "source": [
        "Nifty_Portfolio_HQM_15"
      ],
      "execution_count": null,
      "outputs": []
    }
  ]
}