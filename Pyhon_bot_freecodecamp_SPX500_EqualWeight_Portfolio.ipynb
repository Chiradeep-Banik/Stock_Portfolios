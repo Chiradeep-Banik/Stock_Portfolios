{
  "nbformat": 4,
  "nbformat_minor": 0,
  "metadata": {
    "colab": {
      "name": "Pyhon_bot_freecodecamp_SPX500_EqualWeight_Portfolio.ipynb",
      "provenance": [],
      "collapsed_sections": [],
      "mount_file_id": "1CesJAun5aeodOAcOAabMUDzNjtzTAbmW",
      "authorship_tag": "ABX9TyPtJYn0WYam/WDWrL558yYa",
      "include_colab_link": true
    },
    "kernelspec": {
      "name": "python3",
      "display_name": "Python 3"
    }
  },
  "cells": [
    {
      "cell_type": "markdown",
      "metadata": {
        "id": "view-in-github",
        "colab_type": "text"
      },
      "source": [
        "<a href=\"https://colab.research.google.com/github/Vikram-Ahuja/Stock_Portfolios/blob/main/Pyhon_bot_freecodecamp_SPX500_EqualWeight_Portfolio.ipynb\" target=\"_parent\"><img src=\"https://colab.research.google.com/assets/colab-badge.svg\" alt=\"Open In Colab\"/></a>"
      ]
    },
    {
      "cell_type": "code",
      "metadata": {
        "id": "--rnQyCt8V6h"
      },
      "source": [
        "import numpy as np\n",
        "import pandas as pd\n",
        "import requests\n",
        "import xlsxwriter\n",
        "import math"
      ],
      "execution_count": null,
      "outputs": []
    },
    {
      "cell_type": "code",
      "metadata": {
        "id": "Zfo7e0yE9uvY"
      },
      "source": [
        "stocks = pd.read_csv(\"/content/drive/MyDrive/sp_500_stocks.csv\")\n",
        "print(stocks[\"Ticker\"])"
      ],
      "execution_count": null,
      "outputs": []
    },
    {
      "cell_type": "code",
      "metadata": {
        "id": "HqrDS8lZ_Gtr"
      },
      "source": [
        "IEX_CLOUD_API_TOKEN = 'Tpk_059b97af715d417d9f49f50b51b1c448' #api token"
      ],
      "execution_count": null,
      "outputs": []
    },
    {
      "cell_type": "code",
      "metadata": {
        "id": "JjGB_DDRALrH"
      },
      "source": [
        "symbol = \"APA\"\n",
        "api_url =f\"https://sandbox.iexapis.com/stable/stock/{symbol}/quote/?token={IEX_CLOUD_API_TOKEN}\"\n",
        "data = requests.get(api_url).json()\n",
        "print(data)"
      ],
      "execution_count": null,
      "outputs": []
    },
    {
      "cell_type": "code",
      "metadata": {
        "id": "zIvAjtUKet97"
      },
      "source": [
        "price = data[\"latestPrice\"]\n",
        "market_cap = data[\"marketCap\"]"
      ],
      "execution_count": null,
      "outputs": []
    },
    {
      "cell_type": "code",
      "metadata": {
        "colab": {
          "base_uri": "https://localhost:8080/",
          "height": 49
        },
        "id": "5qF3FQeRgWEr",
        "outputId": "b6cf4e28-2460-4ff6-8fd0-bf2fcde85b5e"
      },
      "source": [
        "my_columns = [\"Ticket\" , \"Price\" ,\"Market_Cap\" ,\"Stocks_to_buy\"]\n",
        "My_stock_dataframe = pd.DataFrame(columns=my_columns)\n",
        "My_stock_dataframe"
      ],
      "execution_count": null,
      "outputs": [
        {
          "output_type": "execute_result",
          "data": {
            "text/html": [
              "<div>\n",
              "<style scoped>\n",
              "    .dataframe tbody tr th:only-of-type {\n",
              "        vertical-align: middle;\n",
              "    }\n",
              "\n",
              "    .dataframe tbody tr th {\n",
              "        vertical-align: top;\n",
              "    }\n",
              "\n",
              "    .dataframe thead th {\n",
              "        text-align: right;\n",
              "    }\n",
              "</style>\n",
              "<table border=\"1\" class=\"dataframe\">\n",
              "  <thead>\n",
              "    <tr style=\"text-align: right;\">\n",
              "      <th></th>\n",
              "      <th>Ticket</th>\n",
              "      <th>Price</th>\n",
              "      <th>Market_Cap</th>\n",
              "      <th>Stocks_to_buy</th>\n",
              "    </tr>\n",
              "  </thead>\n",
              "  <tbody>\n",
              "  </tbody>\n",
              "</table>\n",
              "</div>"
            ],
            "text/plain": [
              "Empty DataFrame\n",
              "Columns: [Ticket, Price, Market_Cap, Stocks_to_buy]\n",
              "Index: []"
            ]
          },
          "metadata": {
            "tags": []
          },
          "execution_count": 94
        }
      ]
    },
    {
      "cell_type": "code",
      "metadata": {
        "id": "AtSj74WQibG1"
      },
      "source": [
        "'''\n",
        "for stock in stocks[\"Ticker\"][:20]:\n",
        "    api_url =f\"https://sandbox.iexapis.com/stable/stock/{stock}/quote/?token={IEX_CLOUD_API_TOKEN}\"\n",
        "    data = requests.get(api_url).json()\n",
        "    My_stock_dataframe = My_stock_dataframe.append(\n",
        "    pd.Series([\n",
        "        stock,\n",
        "        data[\"latestPrice\"],\n",
        "        data[\"marketCap\"],\n",
        "        \"N/A\"\n",
        "    ],\n",
        "    index = my_columns\n",
        "    ),\n",
        "    ignore_index= True\n",
        "    )\n",
        "'''"
      ],
      "execution_count": null,
      "outputs": []
    },
    {
      "cell_type": "code",
      "metadata": {
        "id": "QFmBOReOndO6"
      },
      "source": [
        "def chunks(lst ,n):\n",
        "    for i in range(0,len(lst),n):\n",
        "        yield lst[i:i + n]"
      ],
      "execution_count": null,
      "outputs": []
    },
    {
      "cell_type": "code",
      "metadata": {
        "id": "oSixleR5o5iA"
      },
      "source": [
        "symbol_grp = list(chunks(stocks[\"Ticker\"],90))\n",
        "symbol_string =[]\n",
        "for i in range(0,len(symbol_grp)):\n",
        "    symbol_string.append(\",\".join(symbol_grp[i]))\n",
        "\n",
        "for symbol_str in symbol_string:\n",
        "    batch_api_url = f\"https://sandbox.iexapis.com/stable/stock/market/batch?symbols={symbol_str}&types=quote&token={IEX_CLOUD_API_TOKEN}&format=json\"\n",
        "    Data = requests.get(batch_api_url).json()\n",
        "    for sym in symbol_str.split(\",\"):\n",
        "        My_stock_dataframe = My_stock_dataframe.append(\n",
        "            pd.Series([\n",
        "                      sym,\n",
        "                      Data[sym][\"quote\"][\"latestPrice\"],\n",
        "                      Data[sym][\"quote\"][\"marketCap\"],\n",
        "                      \"N/A\"\n",
        "            ],\n",
        "            index=my_columns\n",
        "            ),\n",
        "            ignore_index=True\n",
        "        )"
      ],
      "execution_count": null,
      "outputs": []
    },
    {
      "cell_type": "code",
      "metadata": {
        "id": "Ch1ushx7SBTE"
      },
      "source": [
        "Portfolio_size = float(input(\"Enter You Portfolio Size: \"))\n",
        "position_size = Portfolio_size/len(My_stock_dataframe)\n",
        "for ind in My_stock_dataframe.index:\n",
        "    no_stocks_to_buy = math.floor(position_size/My_stock_dataframe.Price[ind])\n",
        "    My_stock_dataframe.Stocks_to_buy[ind] = no_stocks_to_buy\n",
        "My_stock_dataframe.iloc[42]"
      ],
      "execution_count": null,
      "outputs": []
    },
    {
      "cell_type": "code",
      "metadata": {
        "id": "VXN2-ICuY1je"
      },
      "source": [
        "My_stock_dataframe.to_csv(\"/content/drive/MyDrive/Python_Portfolio.csv\",index=False,header=True)"
      ],
      "execution_count": null,
      "outputs": []
    }
  ]
}